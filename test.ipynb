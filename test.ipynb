{
 "cells": [
  {
   "cell_type": "code",
   "execution_count": 25,
   "metadata": {},
   "outputs": [],
   "source": [
    "dir1 = \"E:\\\\diff\\\\folder1\"\n",
    "dir2 = \"E:\\\\diff\\\\folder2\""
   ]
  },
  {
   "cell_type": "code",
   "execution_count": 34,
   "metadata": {},
   "outputs": [],
   "source": [
    "import filecmp"
   ]
  },
  {
   "cell_type": "code",
   "execution_count": 35,
   "metadata": {},
   "outputs": [
    {
     "name": "stdout",
     "output_type": "stream",
     "text": [
      "['__class__', '__class_getitem__', '__delattr__', '__dict__', '__dir__', '__doc__', '__eq__', '__format__', '__ge__', '__getattr__', '__getattribute__', '__gt__', '__hash__', '__init__', '__init_subclass__', '__le__', '__lt__', '__module__', '__ne__', '__new__', '__reduce__', '__reduce_ex__', '__repr__', '__setattr__', '__sizeof__', '__str__', '__subclasshook__', '__weakref__', 'hide', 'ignore', 'left', 'methodmap', 'phase0', 'phase1', 'phase2', 'phase3', 'phase4', 'phase4_closure', 'report', 'report_full_closure', 'report_partial_closure', 'right']\n"
     ]
    }
   ],
   "source": [
    "print(dir(dir_comparison))"
   ]
  },
  {
   "cell_type": "code",
   "execution_count": 37,
   "metadata": {},
   "outputs": [
    {
     "name": "stdout",
     "output_type": "stream",
     "text": [
      "222.txt\n"
     ]
    }
   ],
   "source": [
    "dir_comparison = filecmp.dircmp(dir1, dir2)\n",
    "for item in dir_comparison.diff_files:\n",
    "    print(item)"
   ]
  },
  {
   "cell_type": "code",
   "execution_count": 29,
   "metadata": {},
   "outputs": [
    {
     "name": "stdout",
     "output_type": "stream",
     "text": [
      "左边文件夹独有文件 111.txt\n",
      "左边文件夹独有文件 hehehe\n"
     ]
    }
   ],
   "source": [
    "for item in dir_comparison.left_only:\n",
    "    print(\"左边文件夹独有文件\",item)\n",
    "for item in dir_comparison.right_only:\n",
    "    print(\"右边文件夹独有文件\", item)"
   ]
  },
  {
   "cell_type": "code",
   "execution_count": 30,
   "metadata": {},
   "outputs": [
    {
     "name": "stdout",
     "output_type": "stream",
     "text": [
      "左边文件列表 111.txt\n",
      "左边文件列表 222.txt\n",
      "左边文件列表 hehehe\n",
      "左边文件列表 hhh\n",
      "右边文件列表 222.txt\n",
      "右边文件列表 hhh\n"
     ]
    }
   ],
   "source": [
    "\n",
    "for item in dir_comparison.left_list:\n",
    "    print(\"左边文件列表\",item)\n",
    "for item in dir_comparison.right_list:\n",
    "    print(\"右边文件列表\",item)"
   ]
  },
  {
   "cell_type": "code",
   "execution_count": 40,
   "metadata": {},
   "outputs": [
    {
     "name": "stdout",
     "output_type": "stream",
     "text": [
      "['222.txt', 'hhh']\n",
      "['222.txt']\n",
      "['hhh']\n"
     ]
    }
   ],
   "source": [
    "print(dir_comparison.common)\n",
    "print(dir_comparison.common_files)\n",
    "print(dir_comparison.common_dirs)"
   ]
  }
 ],
 "metadata": {
  "kernelspec": {
   "display_name": "base",
   "language": "python",
   "name": "python3"
  },
  "language_info": {
   "codemirror_mode": {
    "name": "ipython",
    "version": 3
   },
   "file_extension": ".py",
   "mimetype": "text/x-python",
   "name": "python",
   "nbconvert_exporter": "python",
   "pygments_lexer": "ipython3",
   "version": "3.10.9"
  },
  "orig_nbformat": 4
 },
 "nbformat": 4,
 "nbformat_minor": 2
}
